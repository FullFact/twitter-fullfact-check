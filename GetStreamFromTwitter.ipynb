{
 "cells": [
  {
   "cell_type": "code",
   "execution_count": 1,
   "metadata": {
    "collapsed": true
   },
   "outputs": [],
   "source": [
    "import twython\n",
    "from twython import Twython, TwythonStreamer\n",
    "import json\n",
    "import settings"
   ]
  },
  {
   "cell_type": "code",
   "execution_count": 2,
   "metadata": {
    "collapsed": true
   },
   "outputs": [],
   "source": [
    "twitter = Twython(settings.API_KEY, settings.API_SECRET)"
   ]
  },
  {
   "cell_type": "code",
   "execution_count": 12,
   "metadata": {},
   "outputs": [],
   "source": [
    "s = twitter.search(q='#LocalElections2017', result_type='popular')"
   ]
  },
  {
   "cell_type": "code",
   "execution_count": 13,
   "metadata": {},
   "outputs": [
    {
     "data": {
      "text/plain": [
       "['\"Hey, let\\'s get some fair coverage!\". 40 Green councillors were elected today. UKIP got 1. #LocalElections2017 https://t.co/9lFUzHUgCY',\n",
       " '#LocalElections2017 UKIP down 16.3 percent TORY up 17.2 percent. Like a python ingesting a yapping poodle. No trace left, just metabolised',\n",
       " '#LocalElections2017 Congratulations Rachel Smith for winning Gloucestershire seat of Minchinhampton from Cons by 27 votes',\n",
       " 'As proportional results come out of Scotland’s local elections, first past the post is still distorting English vot… https://t.co/DD1hZsnfb0',\n",
       " '#LocalElections2017 #MayoralElections\\nTories 😀\\nLabour ☹️\\n(Labour in Doncaster 😀)\\nLib Dems 🤷\\u200d♂️ \\nUkip 😱\\nOr, in words: https://t.co/ZjQApALFEc',\n",
       " 'The random nature of first past the post - some parties get properly represented, some do better, some do worse… https://t.co/gZRwqNRk6j',\n",
       " \"#LocalElections2017 We've held seats in Warwickshire, Gloucestershire and Dorset. And the night is young.\",\n",
       " '\"Not good news for Labour and very, very bad news for UKIP\", says polling company boss #LocalElections2017 https://t.co/EQ2elRb14c',\n",
       " 'Huge congratulations to @BenHouchen, the first ever Mayor of Tees Valley! An outstanding victory #LocalElections2017',\n",
       " 'Ppl use local elections as a protest vote says @BBCNormanS #LocalElections2017 is a protest against Corbyns shambolic hard left #Labour',\n",
       " 'Those celebrating demise of Ukip somewhat short-sighted given Brexit &amp; shift in position of Conservative govt #GE2017 #LocalElections2017',\n",
       " 'Story of #LocalElections2017 so far: Tories make big gains having absorbed Ukip vote. Labour going backwards. No Lib Dem surge.',\n",
       " 'More hugely significant gains for Plaid Cymru as @Jradcliffeplaid takes Aberkenfig from Labour in Bridgend #LocalElections2017',\n",
       " \"‘Come out of hiding!’ Sturgeon CALLED OUT over '£17million spending spree on elections' https://t.co/dq9fXSjNnQ… https://t.co/jAPEql50eW\",\n",
       " 'More random results on the Isle of Wight, 40% of the vote becomes 60% of the seats #LocalElections2017 https://t.co/IIwPcZYRUh']"
      ]
     },
     "execution_count": 13,
     "metadata": {},
     "output_type": "execute_result"
    }
   ],
   "source": [
    "[x['text'] for x in s['statuses']]"
   ]
  },
  {
   "cell_type": "code",
   "execution_count": 4,
   "metadata": {
    "collapsed": true
   },
   "outputs": [],
   "source": [
    "class MyStreamer(TwythonStreamer):\n",
    "    def on_success(self, data):\n",
    "        if 'text' in data:\n",
    "            print(data['text'])\n",
    "\n",
    "    def on_error(self, status_code, data):\n",
    "        print(status_code)\n",
    "\n",
    "        # Stop trying to get data because of the error?\n",
    "        self.disconnect()"
   ]
  },
  {
   "cell_type": "code",
   "execution_count": null,
   "metadata": {},
   "outputs": [],
   "source": [
    "stream = MyStreamer(settings.API_KEY, \n",
    "                    settings.API_SECRET, \n",
    "                    settings.OAUTH_TOKEN, \n",
    "                    settings.OAUTH_TOKEN_SECRET)\n",
    "stream.statuses.filter(track='cplusplus')"
   ]
  },
  {
   "cell_type": "code",
   "execution_count": null,
   "metadata": {
    "collapsed": true
   },
   "outputs": [],
   "source": []
  }
 ],
 "metadata": {
  "kernelspec": {
   "display_name": "Python 3",
   "language": "python",
   "name": "python3"
  },
  "language_info": {
   "codemirror_mode": {
    "name": "ipython",
    "version": 3
   },
   "file_extension": ".py",
   "mimetype": "text/x-python",
   "name": "python",
   "nbconvert_exporter": "python",
   "pygments_lexer": "ipython3",
   "version": "3.6.1"
  }
 },
 "nbformat": 4,
 "nbformat_minor": 2
}
